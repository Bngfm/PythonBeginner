{
 "cells": [
  {
   "cell_type": "markdown",
   "id": "3381dab5-3da3-4465-8298-277b69cab0cb",
   "metadata": {},
   "source": [
    "- # **01 *print***"
   ]
  },
  {
   "cell_type": "markdown",
   "id": "cb1bceed-db69-4de7-879d-10c4b9fb9cc6",
   "metadata": {},
   "source": [
    "## **- Same line**"
   ]
  },
  {
   "cell_type": "code",
   "execution_count": 1,
   "id": "96df2ab9-9bb7-47c3-8ada-f6db22d8ec16",
   "metadata": {
    "execution": {
     "iopub.execute_input": "2022-03-13T03:41:33.364304Z",
     "iopub.status.busy": "2022-03-13T03:41:33.363303Z",
     "iopub.status.idle": "2022-03-13T03:41:33.398316Z",
     "shell.execute_reply": "2022-03-13T03:41:33.396316Z",
     "shell.execute_reply.started": "2022-03-13T03:41:33.364304Z"
    },
    "tags": []
   },
   "outputs": [
    {
     "name": "stdout",
     "output_type": "stream",
     "text": [
      "Hello World !\n"
     ]
    }
   ],
   "source": [
    "print('Hello World !')"
   ]
  },
  {
   "cell_type": "code",
   "execution_count": 2,
   "id": "9f75c8df-4443-47e3-8978-33e4a975aa5b",
   "metadata": {
    "execution": {
     "iopub.execute_input": "2022-03-13T03:41:33.402318Z",
     "iopub.status.busy": "2022-03-13T03:41:33.401318Z",
     "iopub.status.idle": "2022-03-13T03:41:33.552371Z",
     "shell.execute_reply": "2022-03-13T03:41:33.551372Z",
     "shell.execute_reply.started": "2022-03-13T03:41:33.402318Z"
    },
    "tags": []
   },
   "outputs": [
    {
     "name": "stdout",
     "output_type": "stream",
     "text": [
      "Hello World !!\n"
     ]
    }
   ],
   "source": [
    "print(\"Hello World !!\")"
   ]
  },
  {
   "cell_type": "code",
   "execution_count": 3,
   "id": "593b298d-afda-4983-8375-0a55d96ad534",
   "metadata": {
    "execution": {
     "iopub.execute_input": "2022-03-13T03:41:33.556373Z",
     "iopub.status.busy": "2022-03-13T03:41:33.555377Z",
     "iopub.status.idle": "2022-03-13T03:41:33.677181Z",
     "shell.execute_reply": "2022-03-13T03:41:33.676178Z",
     "shell.execute_reply.started": "2022-03-13T03:41:33.555377Z"
    }
   },
   "outputs": [
    {
     "name": "stdout",
     "output_type": "stream",
     "text": [
      "Hello World !!\n"
     ]
    }
   ],
   "source": [
    "print(\"\"\"Hello World !!\"\"\")"
   ]
  },
  {
   "cell_type": "markdown",
   "id": "a6ad3d2c-b29a-4697-bc85-2339f81b5c3c",
   "metadata": {},
   "source": [
    "## **- different lines**"
   ]
  },
  {
   "cell_type": "code",
   "execution_count": 4,
   "id": "14701f74-4251-4dd7-90dc-efa0193d22d2",
   "metadata": {
    "execution": {
     "iopub.execute_input": "2022-03-13T03:41:33.679182Z",
     "iopub.status.busy": "2022-03-13T03:41:33.678182Z",
     "iopub.status.idle": "2022-03-13T03:41:33.786031Z",
     "shell.execute_reply": "2022-03-13T03:41:33.785028Z",
     "shell.execute_reply.started": "2022-03-13T03:41:33.679182Z"
    }
   },
   "outputs": [
    {
     "name": "stdout",
     "output_type": "stream",
     "text": [
      "Hello \n",
      "World !!\n"
     ]
    }
   ],
   "source": [
    "print('Hello \\nWorld !!')"
   ]
  },
  {
   "cell_type": "code",
   "execution_count": 5,
   "id": "39a9a297-f501-48d9-b1c5-fcf6d2d51663",
   "metadata": {
    "execution": {
     "iopub.execute_input": "2022-03-13T03:41:33.789031Z",
     "iopub.status.busy": "2022-03-13T03:41:33.788032Z",
     "iopub.status.idle": "2022-03-13T03:41:33.919227Z",
     "shell.execute_reply": "2022-03-13T03:41:33.918224Z",
     "shell.execute_reply.started": "2022-03-13T03:41:33.789031Z"
    }
   },
   "outputs": [
    {
     "name": "stdout",
     "output_type": "stream",
     "text": [
      "Hello \n",
      "World !!\n"
     ]
    }
   ],
   "source": [
    "print(\"Hello \\nWorld !!\")"
   ]
  },
  {
   "cell_type": "code",
   "execution_count": 6,
   "id": "7678237d-8385-4048-923a-d4a8142df955",
   "metadata": {
    "execution": {
     "iopub.execute_input": "2022-03-13T03:41:33.922228Z",
     "iopub.status.busy": "2022-03-13T03:41:33.921230Z",
     "iopub.status.idle": "2022-03-13T03:41:34.053033Z",
     "shell.execute_reply": "2022-03-13T03:41:34.048027Z",
     "shell.execute_reply.started": "2022-03-13T03:41:33.922228Z"
    },
    "tags": []
   },
   "outputs": [
    {
     "name": "stdout",
     "output_type": "stream",
     "text": [
      "Hello\n",
      "World !!\n"
     ]
    }
   ],
   "source": [
    "print(\"\"\"Hello\n",
    "World !!\"\"\")"
   ]
  },
  {
   "cell_type": "markdown",
   "id": "89919412-c3e5-4421-8efb-9e4779e81f66",
   "metadata": {},
   "source": [
    "## **- using variable**"
   ]
  },
  {
   "cell_type": "code",
   "execution_count": 7,
   "id": "accb7bd5-00ab-4957-8ae0-624a2249b923",
   "metadata": {
    "execution": {
     "iopub.execute_input": "2022-03-13T03:41:34.067036Z",
     "iopub.status.busy": "2022-03-13T03:41:34.065036Z",
     "iopub.status.idle": "2022-03-13T03:41:34.166064Z",
     "shell.execute_reply": "2022-03-13T03:41:34.165065Z",
     "shell.execute_reply.started": "2022-03-13T03:41:34.067036Z"
    },
    "tags": []
   },
   "outputs": [
    {
     "name": "stdout",
     "output_type": "stream",
     "text": [
      "value of number =  5\n"
     ]
    }
   ],
   "source": [
    "number = 5\n",
    "\n",
    "print('value of number = ', number)"
   ]
  },
  {
   "cell_type": "code",
   "execution_count": 8,
   "id": "f9f5ca09-c4db-4809-ac81-ae0b75ab119e",
   "metadata": {
    "execution": {
     "iopub.execute_input": "2022-03-13T03:41:34.170068Z",
     "iopub.status.busy": "2022-03-13T03:41:34.169067Z",
     "iopub.status.idle": "2022-03-13T03:41:34.322641Z",
     "shell.execute_reply": "2022-03-13T03:41:34.316637Z",
     "shell.execute_reply.started": "2022-03-13T03:41:34.169067Z"
    }
   },
   "outputs": [
    {
     "name": "stdout",
     "output_type": "stream",
     "text": [
      "value of number =  5\n"
     ]
    }
   ],
   "source": [
    "number = 5\n",
    "\n",
    "print(\"value of number = \", number)"
   ]
  },
  {
   "cell_type": "code",
   "execution_count": 9,
   "id": "f8f6fd0a-2b83-43e0-97f2-a769de73fb5e",
   "metadata": {
    "execution": {
     "iopub.execute_input": "2022-03-13T03:41:34.328643Z",
     "iopub.status.busy": "2022-03-13T03:41:34.327647Z",
     "iopub.status.idle": "2022-03-13T03:41:34.420161Z",
     "shell.execute_reply": "2022-03-13T03:41:34.419160Z",
     "shell.execute_reply.started": "2022-03-13T03:41:34.328643Z"
    }
   },
   "outputs": [
    {
     "name": "stdout",
     "output_type": "stream",
     "text": [
      "value of number =  5\n"
     ]
    }
   ],
   "source": [
    "number = 5\n",
    "\n",
    "print(\"\"\"value of number = \"\"\", number)"
   ]
  },
  {
   "cell_type": "code",
   "execution_count": 10,
   "id": "5ebabc2d-6a2f-4ebd-ad8c-66484fe14ba2",
   "metadata": {
    "execution": {
     "iopub.execute_input": "2022-03-13T03:41:34.422161Z",
     "iopub.status.busy": "2022-03-13T03:41:34.422161Z",
     "iopub.status.idle": "2022-03-13T03:41:34.568728Z",
     "shell.execute_reply": "2022-03-13T03:41:34.564796Z",
     "shell.execute_reply.started": "2022-03-13T03:41:34.422161Z"
    }
   },
   "outputs": [
    {
     "name": "stdout",
     "output_type": "stream",
     "text": [
      "x =  1  y =  4\n"
     ]
    }
   ],
   "source": [
    "x = 1\n",
    "y = 4\n",
    "\n",
    "print('x = ', x, ' y = ', y)"
   ]
  },
  {
   "cell_type": "code",
   "execution_count": 11,
   "id": "a9973bfa-51dd-4f78-b80f-c3e067a4caa4",
   "metadata": {
    "execution": {
     "iopub.execute_input": "2022-03-13T03:41:34.575728Z",
     "iopub.status.busy": "2022-03-13T03:41:34.573730Z",
     "iopub.status.idle": "2022-03-13T03:41:34.664761Z",
     "shell.execute_reply": "2022-03-13T03:41:34.662761Z",
     "shell.execute_reply.started": "2022-03-13T03:41:34.575728Z"
    }
   },
   "outputs": [
    {
     "name": "stdout",
     "output_type": "stream",
     "text": [
      "x =  1  y =  4\n"
     ]
    }
   ],
   "source": [
    "x = 1\n",
    "y = 4\n",
    "\n",
    "print(\"x = \", x, \" y = \", y)"
   ]
  },
  {
   "cell_type": "markdown",
   "id": "dd77d628-fdfe-4abd-99fd-5216ba76bcfc",
   "metadata": {},
   "source": [
    "## **- format**"
   ]
  },
  {
   "cell_type": "code",
   "execution_count": 12,
   "id": "e274f476-b282-4fcd-a7f9-fc4a2076fa39",
   "metadata": {
    "execution": {
     "iopub.execute_input": "2022-03-13T03:41:34.668762Z",
     "iopub.status.busy": "2022-03-13T03:41:34.667761Z",
     "iopub.status.idle": "2022-03-13T03:41:34.804881Z",
     "shell.execute_reply": "2022-03-13T03:41:34.801878Z",
     "shell.execute_reply.started": "2022-03-13T03:41:34.668762Z"
    },
    "tags": []
   },
   "outputs": [
    {
     "name": "stdout",
     "output_type": "stream",
     "text": [
      "x = 10, y = 20\n"
     ]
    }
   ],
   "source": [
    "x, y = 10, 20\n",
    "\n",
    "print('x = {x}, y = {y}'.format(x=x, y=y))"
   ]
  },
  {
   "cell_type": "code",
   "execution_count": 13,
   "id": "da25a201-d0ca-46b7-8996-1f5a8afbc026",
   "metadata": {
    "execution": {
     "iopub.execute_input": "2022-03-13T03:41:34.808883Z",
     "iopub.status.busy": "2022-03-13T03:41:34.807883Z",
     "iopub.status.idle": "2022-03-13T03:41:34.933492Z",
     "shell.execute_reply": "2022-03-13T03:41:34.932491Z",
     "shell.execute_reply.started": "2022-03-13T03:41:34.808883Z"
    }
   },
   "outputs": [
    {
     "name": "stdout",
     "output_type": "stream",
     "text": [
      "x = 10, y = 20\n"
     ]
    }
   ],
   "source": [
    "x, y = 10, 20\n",
    "\n",
    "# donner un nom de parametres entre les accolades\n",
    "print('x = {a}, y = {b}'.format(a=x, b=y))"
   ]
  },
  {
   "cell_type": "code",
   "execution_count": 14,
   "id": "83477eee-6f44-491e-b115-d3073f039037",
   "metadata": {
    "execution": {
     "iopub.execute_input": "2022-03-13T03:41:34.936495Z",
     "iopub.status.busy": "2022-03-13T03:41:34.935495Z",
     "iopub.status.idle": "2022-03-13T03:41:35.079652Z",
     "shell.execute_reply": "2022-03-13T03:41:35.075651Z",
     "shell.execute_reply.started": "2022-03-13T03:41:34.936495Z"
    }
   },
   "outputs": [
    {
     "name": "stdout",
     "output_type": "stream",
     "text": [
      "x = 10, y = 20\n"
     ]
    }
   ],
   "source": [
    "x, y = 10, 20\n",
    "\n",
    "print('x = {}, y = {}'.format(x, y))"
   ]
  },
  {
   "cell_type": "code",
   "execution_count": 15,
   "id": "992cc3e0-1ee5-4d43-b7d7-c973113fdf71",
   "metadata": {
    "execution": {
     "iopub.execute_input": "2022-03-13T03:41:35.085653Z",
     "iopub.status.busy": "2022-03-13T03:41:35.083656Z",
     "iopub.status.idle": "2022-03-13T03:41:35.209237Z",
     "shell.execute_reply": "2022-03-13T03:41:35.208235Z",
     "shell.execute_reply.started": "2022-03-13T03:41:35.085653Z"
    }
   },
   "outputs": [
    {
     "name": "stdout",
     "output_type": "stream",
     "text": [
      "x = 100, y = 200\n"
     ]
    }
   ],
   "source": [
    "x, y = 10, 20\n",
    "\n",
    "print('x = {x}, y = {y}'.format(x=100, y=200))"
   ]
  },
  {
   "cell_type": "markdown",
   "id": "8891fee8-1ad8-460f-add0-656b9278c878",
   "metadata": {},
   "source": [
    "## **- la fonction f**"
   ]
  },
  {
   "cell_type": "code",
   "execution_count": 16,
   "id": "6ab36ca1-6b46-4a40-802b-6ed35351c626",
   "metadata": {
    "execution": {
     "iopub.execute_input": "2022-03-13T03:41:35.212238Z",
     "iopub.status.busy": "2022-03-13T03:41:35.211238Z",
     "iopub.status.idle": "2022-03-13T03:41:35.363184Z",
     "shell.execute_reply": "2022-03-13T03:41:35.359186Z",
     "shell.execute_reply.started": "2022-03-13T03:41:35.211238Z"
    }
   },
   "outputs": [
    {
     "name": "stdout",
     "output_type": "stream",
     "text": [
      "x = 10, y = 20\n"
     ]
    }
   ],
   "source": [
    "x, y = 10, 20\n",
    "\n",
    "print(f'x = {x}, y = {y}')"
   ]
  },
  {
   "cell_type": "code",
   "execution_count": 17,
   "id": "2874d119-a5c2-418f-9e43-a5c8a4a15ee6",
   "metadata": {
    "execution": {
     "iopub.execute_input": "2022-03-13T03:41:35.369180Z",
     "iopub.status.busy": "2022-03-13T03:41:35.367180Z",
     "iopub.status.idle": "2022-03-13T03:41:35.462211Z",
     "shell.execute_reply": "2022-03-13T03:41:35.461212Z",
     "shell.execute_reply.started": "2022-03-13T03:41:35.369180Z"
    }
   },
   "outputs": [
    {
     "name": "stdout",
     "output_type": "stream",
     "text": [
      "value of x is 10, value of y is 20 and value of z is 30\n"
     ]
    }
   ],
   "source": [
    "x, y, z = 10, 20, 30\n",
    "\n",
    "print(f'value of x is {x}, value of y is {y} and value of z is {z}')"
   ]
  },
  {
   "cell_type": "code",
   "execution_count": 18,
   "id": "19365f43-bfb4-45d5-ad50-a5e25fd2dbe4",
   "metadata": {
    "execution": {
     "iopub.execute_input": "2022-03-13T03:41:35.466213Z",
     "iopub.status.busy": "2022-03-13T03:41:35.465214Z",
     "iopub.status.idle": "2022-03-13T03:41:35.543253Z",
     "shell.execute_reply": "2022-03-13T03:41:35.542254Z",
     "shell.execute_reply.started": "2022-03-13T03:41:35.466213Z"
    }
   },
   "outputs": [
    {
     "name": "stdout",
     "output_type": "stream",
     "text": [
      "value of x is 10,\n",
      "value of y is 20\n",
      "and value of z is 30\n"
     ]
    }
   ],
   "source": [
    "x, y, z = 10, 20, 30\n",
    "\n",
    "print(f\"\"\"value of x is {x},\n",
    "value of y is {y}\n",
    "and value of z is {z}\"\"\")"
   ]
  },
  {
   "cell_type": "markdown",
   "id": "b912118e-6bba-4895-a9ce-6abaaab354b6",
   "metadata": {},
   "source": [
    "# Remember"
   ]
  },
  {
   "cell_type": "markdown",
   "id": "f31a3d72-d85c-4845-9929-00541be8b8f5",
   "metadata": {},
   "source": [
    "- # **02 *Declare variables***"
   ]
  },
  {
   "cell_type": "code",
   "execution_count": 19,
   "id": "de6a61d8-1251-4b10-bb54-071b7e25f850",
   "metadata": {
    "execution": {
     "iopub.execute_input": "2022-03-13T03:41:35.546256Z",
     "iopub.status.busy": "2022-03-13T03:41:35.545255Z",
     "iopub.status.idle": "2022-03-13T03:41:35.627023Z",
     "shell.execute_reply": "2022-03-13T03:41:35.626023Z",
     "shell.execute_reply.started": "2022-03-13T03:41:35.546256Z"
    },
    "tags": []
   },
   "outputs": [
    {
     "name": "stdout",
     "output_type": "stream",
     "text": [
      "type of x : <class 'int'>\n",
      "type of y : <class 'float'>\n",
      "type of z : <class 'bool'>\n",
      "type of a : <class 'str'>\n"
     ]
    }
   ],
   "source": [
    "x = 2\n",
    "y = 3.3\n",
    "z = False\n",
    "a = 's'\n",
    "\n",
    "print(f'type of x : {type(x)}')\n",
    "print(f'type of y : {type(y)}')\n",
    "print(f'type of z : {type(z)}')\n",
    "print(f'type of a : {type(a)}')"
   ]
  },
  {
   "cell_type": "markdown",
   "id": "8a2faacb-a923-46c5-b696-9e8ad2ae2bf1",
   "metadata": {},
   "source": [
    "> ## **Declare in one line (one expresion)**"
   ]
  },
  {
   "cell_type": "code",
   "execution_count": 20,
   "id": "a0338a29-2499-46f1-a211-69e2946457b5",
   "metadata": {
    "execution": {
     "iopub.execute_input": "2022-03-13T03:41:35.630025Z",
     "iopub.status.busy": "2022-03-13T03:41:35.629024Z",
     "iopub.status.idle": "2022-03-13T03:41:35.729738Z",
     "shell.execute_reply": "2022-03-13T03:41:35.726730Z",
     "shell.execute_reply.started": "2022-03-13T03:41:35.630025Z"
    },
    "tags": []
   },
   "outputs": [
    {
     "name": "stdout",
     "output_type": "stream",
     "text": [
      "x = 10, y = 5, z = 8\n"
     ]
    }
   ],
   "source": [
    "x = 10\n",
    "y = 5\n",
    "z = 8\n",
    "\n",
    "print(f'x = {x}, y = {y}, z = {z}')"
   ]
  },
  {
   "cell_type": "code",
   "execution_count": 21,
   "id": "519ee4f5-6220-488d-a7da-268e8558c01f",
   "metadata": {
    "execution": {
     "iopub.execute_input": "2022-03-13T03:41:35.735735Z",
     "iopub.status.busy": "2022-03-13T03:41:35.733742Z",
     "iopub.status.idle": "2022-03-13T03:41:35.853320Z",
     "shell.execute_reply": "2022-03-13T03:41:35.851319Z",
     "shell.execute_reply.started": "2022-03-13T03:41:35.735735Z"
    },
    "tags": []
   },
   "outputs": [
    {
     "name": "stdout",
     "output_type": "stream",
     "text": [
      "x = 10, y = 5, z = 8\n"
     ]
    }
   ],
   "source": [
    "x, y, z = 10, 5, 8\n",
    "\n",
    "\n",
    "print(f'x = {x}, y = {y}, z = {z}')"
   ]
  },
  {
   "cell_type": "markdown",
   "id": "47c2aac0-ba9e-480e-9424-b14f890707fe",
   "metadata": {},
   "source": [
    "### **Inverse variables** "
   ]
  },
  {
   "cell_type": "code",
   "execution_count": 22,
   "id": "cec1cf56-9290-4001-82f5-00b6eb24ac2e",
   "metadata": {
    "execution": {
     "iopub.execute_input": "2022-03-13T03:41:35.856321Z",
     "iopub.status.busy": "2022-03-13T03:41:35.855320Z",
     "iopub.status.idle": "2022-03-13T03:41:36.022433Z",
     "shell.execute_reply": "2022-03-13T03:41:36.018429Z",
     "shell.execute_reply.started": "2022-03-13T03:41:35.856321Z"
    },
    "tags": []
   },
   "outputs": [
    {
     "name": "stdout",
     "output_type": "stream",
     "text": [
      "x = 10, y = 5\n",
      "x = 5, y = 10\n"
     ]
    }
   ],
   "source": [
    "x, y = 10, 5\n",
    "print(f'x = {x}, y = {y}')\n",
    "\n",
    "x, y = y, x\n",
    "print(f'x = {x}, y = {y}')"
   ]
  },
  {
   "cell_type": "code",
   "execution_count": 23,
   "id": "d687857a-6888-4e62-a690-6e680546f584",
   "metadata": {
    "execution": {
     "iopub.execute_input": "2022-03-13T03:41:36.027436Z",
     "iopub.status.busy": "2022-03-13T03:41:36.026435Z",
     "iopub.status.idle": "2022-03-13T03:41:36.166873Z",
     "shell.execute_reply": "2022-03-13T03:41:36.163864Z",
     "shell.execute_reply.started": "2022-03-13T03:41:36.027436Z"
    }
   },
   "outputs": [
    {
     "name": "stdout",
     "output_type": "stream",
     "text": [
      "x = 10, y = s\n",
      "x = s, y = 10\n"
     ]
    }
   ],
   "source": [
    "x, y = 10, 's'\n",
    "print(f'x = {x}, y = {y}')\n",
    "\n",
    "x, y = y, x\n",
    "print(f'x = {x}, y = {y}')"
   ]
  },
  {
   "cell_type": "markdown",
   "id": "661ef0c4-ee44-4676-b1c9-9ac815575e96",
   "metadata": {},
   "source": [
    "- # **03 *input***"
   ]
  },
  {
   "cell_type": "code",
   "execution_count": 24,
   "id": "50330135-b610-4ed2-a391-5d77ebc9a62c",
   "metadata": {
    "execution": {
     "iopub.execute_input": "2022-03-13T03:41:36.174871Z",
     "iopub.status.busy": "2022-03-13T03:41:36.171870Z",
     "iopub.status.idle": "2022-03-13T03:41:44.215799Z",
     "shell.execute_reply": "2022-03-13T03:41:44.213796Z",
     "shell.execute_reply.started": "2022-03-13T03:41:36.174871Z"
    },
    "tags": []
   },
   "outputs": [
    {
     "name": "stdin",
     "output_type": "stream",
     "text": [
      " test\n"
     ]
    },
    {
     "name": "stdout",
     "output_type": "stream",
     "text": [
      "entry is :  test\n"
     ]
    }
   ],
   "source": [
    "entry = input()\n",
    "\n",
    "print('entry is : ',entry)"
   ]
  },
  {
   "cell_type": "code",
   "execution_count": 25,
   "id": "acebd04f-18a8-4ac3-941d-ac58be92b58e",
   "metadata": {
    "execution": {
     "iopub.execute_input": "2022-03-13T03:41:44.223802Z",
     "iopub.status.busy": "2022-03-13T03:41:44.223802Z",
     "iopub.status.idle": "2022-03-13T03:41:48.349431Z",
     "shell.execute_reply": "2022-03-13T03:41:48.348431Z",
     "shell.execute_reply.started": "2022-03-13T03:41:44.223802Z"
    },
    "tags": []
   },
   "outputs": [
    {
     "name": "stdin",
     "output_type": "stream",
     "text": [
      "Enter some thing :  test\n"
     ]
    },
    {
     "name": "stdout",
     "output_type": "stream",
     "text": [
      "Type of [test] is <class 'str'>\n"
     ]
    }
   ],
   "source": [
    "entry = input('Enter some thing : ')\n",
    "print(f'Type of [{entry}] is {type(entry)}')"
   ]
  },
  {
   "cell_type": "code",
   "execution_count": 26,
   "id": "4f9d622e-a67e-4da4-b465-82a0d1351766",
   "metadata": {
    "execution": {
     "iopub.execute_input": "2022-03-13T03:41:48.353433Z",
     "iopub.status.busy": "2022-03-13T03:41:48.353433Z",
     "iopub.status.idle": "2022-03-13T03:41:53.053887Z",
     "shell.execute_reply": "2022-03-13T03:41:53.052889Z",
     "shell.execute_reply.started": "2022-03-13T03:41:48.353433Z"
    },
    "tags": []
   },
   "outputs": [
    {
     "name": "stdin",
     "output_type": "stream",
     "text": [
      "Enter a number :  10\n"
     ]
    },
    {
     "name": "stdout",
     "output_type": "stream",
     "text": [
      "Type of [10] is <class 'str'>\n"
     ]
    }
   ],
   "source": [
    "entry = input('Enter a number : ')\n",
    "print(f'Type of [{entry}] is {type(entry)}')"
   ]
  },
  {
   "cell_type": "markdown",
   "id": "d601f658-3959-45f2-ae86-d4d10be488ff",
   "metadata": {},
   "source": [
    "> ### **Cast input**"
   ]
  },
  {
   "cell_type": "code",
   "execution_count": 27,
   "id": "a2ce17dc-95a6-4df7-8a6e-959817df2513",
   "metadata": {
    "execution": {
     "iopub.execute_input": "2022-03-13T03:41:53.056888Z",
     "iopub.status.busy": "2022-03-13T03:41:53.056888Z",
     "iopub.status.idle": "2022-03-13T03:41:58.054471Z",
     "shell.execute_reply": "2022-03-13T03:41:58.053471Z",
     "shell.execute_reply.started": "2022-03-13T03:41:53.056888Z"
    },
    "tags": []
   },
   "outputs": [
    {
     "name": "stdin",
     "output_type": "stream",
     "text": [
      "enter a number :  10\n"
     ]
    },
    {
     "name": "stdout",
     "output_type": "stream",
     "text": [
      "Type of [10] before casting is : <class 'str'>\n",
      "Type of [10] after casting is : <class 'int'>\n"
     ]
    }
   ],
   "source": [
    "x = input('enter a number : ')\n",
    "print(f'Type of [{x}] before casting is : {type(x)}')\n",
    "\n",
    "x = int(x)\n",
    "print(f'Type of [{x}] after casting is : {type(x)}')"
   ]
  },
  {
   "cell_type": "code",
   "execution_count": 28,
   "id": "26c49b32-40f5-4aff-a396-9d147d24555f",
   "metadata": {
    "execution": {
     "iopub.execute_input": "2022-03-13T03:41:58.057471Z",
     "iopub.status.busy": "2022-03-13T03:41:58.056472Z",
     "iopub.status.idle": "2022-03-13T03:42:01.565482Z",
     "shell.execute_reply": "2022-03-13T03:42:01.564482Z",
     "shell.execute_reply.started": "2022-03-13T03:41:58.057471Z"
    },
    "tags": []
   },
   "outputs": [
    {
     "name": "stdin",
     "output_type": "stream",
     "text": [
      "enter a number :  10\n"
     ]
    },
    {
     "name": "stdout",
     "output_type": "stream",
     "text": [
      "Type of [10] is : <class 'int'>\n"
     ]
    }
   ],
   "source": [
    "x = int(input('enter a number : '))\n",
    "print(f'Type of [{x}] is : {type(x)}')"
   ]
  },
  {
   "cell_type": "code",
   "execution_count": 29,
   "id": "6db557eb-41d9-4c58-9137-93fc14fcb5c6",
   "metadata": {
    "execution": {
     "iopub.execute_input": "2022-03-13T03:42:01.567483Z",
     "iopub.status.busy": "2022-03-13T03:42:01.567483Z",
     "iopub.status.idle": "2022-03-13T03:42:05.959273Z",
     "shell.execute_reply": "2022-03-13T03:42:05.957273Z",
     "shell.execute_reply.started": "2022-03-13T03:42:01.567483Z"
    },
    "tags": []
   },
   "outputs": [
    {
     "name": "stdin",
     "output_type": "stream",
     "text": [
      "enter a number :  10\n"
     ]
    },
    {
     "name": "stdout",
     "output_type": "stream",
     "text": [
      "Type of [10.0] is : <class 'float'>\n"
     ]
    }
   ],
   "source": [
    "x = float(input('enter a number : '))\n",
    "print(f'Type of [{x}] is : {type(x)}')"
   ]
  },
  {
   "cell_type": "code",
   "execution_count": 30,
   "id": "065f1b6c-d36c-4c22-a5af-bbdb894541ce",
   "metadata": {
    "execution": {
     "iopub.execute_input": "2022-03-13T03:42:05.961273Z",
     "iopub.status.busy": "2022-03-13T03:42:05.961273Z",
     "iopub.status.idle": "2022-03-13T03:42:13.190644Z",
     "shell.execute_reply": "2022-03-13T03:42:13.189644Z",
     "shell.execute_reply.started": "2022-03-13T03:42:05.961273Z"
    },
    "tags": []
   },
   "outputs": [
    {
     "name": "stdin",
     "output_type": "stream",
     "text": [
      "enter a number :  10\n"
     ]
    },
    {
     "name": "stdout",
     "output_type": "stream",
     "text": [
      "Type of [10] is : <class 'str'>\n"
     ]
    }
   ],
   "source": [
    "x = str(int(input('enter a number : ')))\n",
    "print(f'Type of [{x}] is : {type(x)}')"
   ]
  },
  {
   "cell_type": "markdown",
   "id": "b03b731d-cd47-4cdd-a563-8727a3ca6101",
   "metadata": {},
   "source": [
    "- # **04 *Arithmetic***"
   ]
  },
  {
   "cell_type": "code",
   "execution_count": 31,
   "id": "32b1ca01-94c7-4137-ae83-c8575631b553",
   "metadata": {
    "execution": {
     "iopub.execute_input": "2022-03-13T03:42:13.193645Z",
     "iopub.status.busy": "2022-03-13T03:42:13.193645Z",
     "iopub.status.idle": "2022-03-13T03:42:13.201649Z",
     "shell.execute_reply": "2022-03-13T03:42:13.200648Z",
     "shell.execute_reply.started": "2022-03-13T03:42:13.193645Z"
    },
    "tags": []
   },
   "outputs": [
    {
     "name": "stdout",
     "output_type": "stream",
     "text": [
      "10 + 5 = 15\n"
     ]
    }
   ],
   "source": [
    "x, y = 10, 5\n",
    "\n",
    "print(f'{x} + {y} = {x + y}')"
   ]
  },
  {
   "cell_type": "code",
   "execution_count": 32,
   "id": "5faed4e9-801c-4053-8ecf-9bc041d7b4cf",
   "metadata": {
    "execution": {
     "iopub.execute_input": "2022-03-13T03:42:13.204649Z",
     "iopub.status.busy": "2022-03-13T03:42:13.203650Z",
     "iopub.status.idle": "2022-03-13T03:42:13.337217Z",
     "shell.execute_reply": "2022-03-13T03:42:13.336217Z",
     "shell.execute_reply.started": "2022-03-13T03:42:13.204649Z"
    },
    "tags": []
   },
   "outputs": [
    {
     "name": "stdout",
     "output_type": "stream",
     "text": [
      "10 - 5 = 5\n"
     ]
    }
   ],
   "source": [
    "x, y = 10, 5\n",
    "\n",
    "print(f'{x} - {y} = {x - y}')"
   ]
  },
  {
   "cell_type": "code",
   "execution_count": 33,
   "id": "1ecbeed7-1dba-4a52-a69e-e31251c77f18",
   "metadata": {
    "execution": {
     "iopub.execute_input": "2022-03-13T03:42:13.339219Z",
     "iopub.status.busy": "2022-03-13T03:42:13.339219Z",
     "iopub.status.idle": "2022-03-13T03:42:13.488387Z",
     "shell.execute_reply": "2022-03-13T03:42:13.485389Z",
     "shell.execute_reply.started": "2022-03-13T03:42:13.339219Z"
    },
    "tags": []
   },
   "outputs": [
    {
     "name": "stdout",
     "output_type": "stream",
     "text": [
      "10 * 5 = 50\n"
     ]
    }
   ],
   "source": [
    "x, y = 10, 5\n",
    "\n",
    "print(f'{x} * {y} = {x * y}')"
   ]
  },
  {
   "cell_type": "code",
   "execution_count": 34,
   "id": "8e5217a9-7026-4eaf-a67b-27ff1f0e3dbb",
   "metadata": {
    "execution": {
     "iopub.execute_input": "2022-03-13T03:42:13.496394Z",
     "iopub.status.busy": "2022-03-13T03:42:13.493389Z",
     "iopub.status.idle": "2022-03-13T03:42:13.642878Z",
     "shell.execute_reply": "2022-03-13T03:42:13.642878Z",
     "shell.execute_reply.started": "2022-03-13T03:42:13.496394Z"
    },
    "tags": []
   },
   "outputs": [
    {
     "name": "stdout",
     "output_type": "stream",
     "text": [
      "10 / 5 = 2.0\n"
     ]
    }
   ],
   "source": [
    "x, y = 10, 5\n",
    "\n",
    "print(f'{x} / {y} = {x / y}')"
   ]
  },
  {
   "cell_type": "code",
   "execution_count": 35,
   "id": "8909d15c-4d0a-483d-9b8c-fc5d79544029",
   "metadata": {
    "execution": {
     "iopub.execute_input": "2022-03-13T03:42:13.654262Z",
     "iopub.status.busy": "2022-03-13T03:42:13.653262Z",
     "iopub.status.idle": "2022-03-13T03:42:13.824510Z",
     "shell.execute_reply": "2022-03-13T03:42:13.821503Z",
     "shell.execute_reply.started": "2022-03-13T03:42:13.654262Z"
    },
    "tags": []
   },
   "outputs": [
    {
     "name": "stdout",
     "output_type": "stream",
     "text": [
      "10 / 5 = 2\n"
     ]
    }
   ],
   "source": [
    "x, y = 10, 5\n",
    "\n",
    "print(f'{x} / {y} = {int(x / y)}')"
   ]
  },
  {
   "cell_type": "code",
   "execution_count": 36,
   "id": "0372077a-f283-4aa2-9cad-af7d31c41db4",
   "metadata": {
    "execution": {
     "iopub.execute_input": "2022-03-13T03:42:13.830508Z",
     "iopub.status.busy": "2022-03-13T03:42:13.828508Z",
     "iopub.status.idle": "2022-03-13T03:42:13.933331Z",
     "shell.execute_reply": "2022-03-13T03:42:13.932328Z",
     "shell.execute_reply.started": "2022-03-13T03:42:13.830508Z"
    },
    "tags": []
   },
   "outputs": [
    {
     "name": "stdout",
     "output_type": "stream",
     "text": [
      "10 / 5 = 2\n"
     ]
    }
   ],
   "source": [
    "x, y = 10, 5\n",
    "\n",
    "print(f'{x} / {y} = {x // y}')"
   ]
  },
  {
   "cell_type": "code",
   "execution_count": 37,
   "id": "035dbf45-2ef7-4d2c-9dd6-8c5a78255763",
   "metadata": {
    "execution": {
     "iopub.execute_input": "2022-03-13T03:42:13.936333Z",
     "iopub.status.busy": "2022-03-13T03:42:13.935332Z",
     "iopub.status.idle": "2022-03-13T03:42:14.032248Z",
     "shell.execute_reply": "2022-03-13T03:42:14.029134Z",
     "shell.execute_reply.started": "2022-03-13T03:42:13.936333Z"
    },
    "tags": []
   },
   "outputs": [
    {
     "name": "stdout",
     "output_type": "stream",
     "text": [
      "2 ^ 4 = 16\n"
     ]
    }
   ],
   "source": [
    "x, y = 2, 4\n",
    "\n",
    "print(f'{x} ^ {y} = {x ** y}')"
   ]
  },
  {
   "cell_type": "code",
   "execution_count": 38,
   "id": "95e22201-21e8-41a2-86a5-bea1b7fb77be",
   "metadata": {
    "execution": {
     "iopub.execute_input": "2022-03-13T03:42:14.038254Z",
     "iopub.status.busy": "2022-03-13T03:42:14.036254Z",
     "iopub.status.idle": "2022-03-13T03:42:14.115140Z",
     "shell.execute_reply": "2022-03-13T03:42:14.113139Z",
     "shell.execute_reply.started": "2022-03-13T03:42:14.038254Z"
    },
    "tags": []
   },
   "outputs": [
    {
     "name": "stdout",
     "output_type": "stream",
     "text": [
      "sqrt(16) = 4.0\n"
     ]
    }
   ],
   "source": [
    "x = 16\n",
    "\n",
    "print(f'sqrt({x}) = {x ** (1/2)}')"
   ]
  },
  {
   "cell_type": "code",
   "execution_count": 39,
   "id": "e5611f80-4b6c-4130-b28e-9e4be83f74c7",
   "metadata": {
    "execution": {
     "iopub.execute_input": "2022-03-13T03:42:14.118143Z",
     "iopub.status.busy": "2022-03-13T03:42:14.117141Z",
     "iopub.status.idle": "2022-03-13T03:42:14.189715Z",
     "shell.execute_reply": "2022-03-13T03:42:14.188716Z",
     "shell.execute_reply.started": "2022-03-13T03:42:14.118143Z"
    },
    "tags": []
   },
   "outputs": [
    {
     "name": "stdout",
     "output_type": "stream",
     "text": [
      "x = 1\n"
     ]
    }
   ],
   "source": [
    "x = 0\n",
    "x = x + 1\n",
    "\n",
    "print(f'x = {x}')"
   ]
  },
  {
   "cell_type": "code",
   "execution_count": 40,
   "id": "de125bdb-c10f-4738-be52-88381fa7cfb2",
   "metadata": {
    "execution": {
     "iopub.execute_input": "2022-03-13T03:42:14.192716Z",
     "iopub.status.busy": "2022-03-13T03:42:14.191716Z",
     "iopub.status.idle": "2022-03-13T03:42:14.295913Z",
     "shell.execute_reply": "2022-03-13T03:42:14.290903Z",
     "shell.execute_reply.started": "2022-03-13T03:42:14.191716Z"
    },
    "tags": []
   },
   "outputs": [
    {
     "name": "stdout",
     "output_type": "stream",
     "text": [
      "x = 1\n"
     ]
    }
   ],
   "source": [
    "x = 0\n",
    "x += 1\n",
    "\n",
    "print(f'x = {x}')"
   ]
  },
  {
   "cell_type": "markdown",
   "id": "0c79c183-7b8c-4da5-b0ef-6472b3f763c5",
   "metadata": {},
   "source": [
    "- # **05 *Logic***"
   ]
  },
  {
   "cell_type": "code",
   "execution_count": 41,
   "id": "387e6b8e-553e-43db-9be0-cf1ede90c4c0",
   "metadata": {
    "execution": {
     "iopub.execute_input": "2022-03-13T03:42:14.303912Z",
     "iopub.status.busy": "2022-03-13T03:42:14.301912Z",
     "iopub.status.idle": "2022-03-13T03:42:14.383013Z",
     "shell.execute_reply": "2022-03-13T03:42:14.382011Z",
     "shell.execute_reply.started": "2022-03-13T03:42:14.303912Z"
    },
    "tags": []
   },
   "outputs": [
    {
     "name": "stdout",
     "output_type": "stream",
     "text": [
      "False and False = False\n",
      "False and True = False\n",
      "True and False = False\n",
      "True and True = True\n"
     ]
    }
   ],
   "source": [
    "print(f'{False} and {False} = {False and False}')\n",
    "print(f'{False} and {True} = {False and True}')\n",
    "print(f'{True} and {False} = {True and False}')\n",
    "print(f'{True} and {True} = {True and True}')"
   ]
  },
  {
   "cell_type": "code",
   "execution_count": 42,
   "id": "b38c1274-ca0e-4d20-9634-51247b917484",
   "metadata": {
    "execution": {
     "iopub.execute_input": "2022-03-13T03:42:14.386014Z",
     "iopub.status.busy": "2022-03-13T03:42:14.385014Z",
     "iopub.status.idle": "2022-03-13T03:42:14.496243Z",
     "shell.execute_reply": "2022-03-13T03:42:14.496243Z",
     "shell.execute_reply.started": "2022-03-13T03:42:14.386014Z"
    }
   },
   "outputs": [
    {
     "name": "stdout",
     "output_type": "stream",
     "text": [
      "False or False = False\n",
      "False or True = True\n",
      "True or False = True\n",
      "True or True = True\n"
     ]
    }
   ],
   "source": [
    "print(f'{False} or {False} = {False or False}')\n",
    "print(f'{False} or {True} = {False or True}')\n",
    "print(f'{True} or {False} = {True or False}')\n",
    "print(f'{True} or {True} = {True or True}')"
   ]
  },
  {
   "cell_type": "markdown",
   "id": "f2a25651-3a91-4620-9941-8084b7002678",
   "metadata": {},
   "source": [
    "- # **06 *Condition***"
   ]
  },
  {
   "cell_type": "code",
   "execution_count": 43,
   "id": "a3b143f6-50ad-4012-afb1-41b1c9811a68",
   "metadata": {
    "execution": {
     "iopub.execute_input": "2022-03-13T03:42:14.513593Z",
     "iopub.status.busy": "2022-03-13T03:42:14.496243Z",
     "iopub.status.idle": "2022-03-13T03:42:14.632063Z",
     "shell.execute_reply": "2022-03-13T03:42:14.631062Z",
     "shell.execute_reply.started": "2022-03-13T03:42:14.513593Z"
    },
    "tags": []
   },
   "outputs": [
    {
     "name": "stdout",
     "output_type": "stream",
     "text": [
      "That is false, 5 is less than 8\n"
     ]
    }
   ],
   "source": [
    "if 5 > 8 : \n",
    "    print('That is true, 5 is greater than 8')\n",
    "else :\n",
    "    print('That is false, 5 is less than 8')"
   ]
  },
  {
   "cell_type": "code",
   "execution_count": 44,
   "id": "9657daf4-0781-4e9f-980a-ee5a2421938c",
   "metadata": {
    "execution": {
     "iopub.execute_input": "2022-03-13T03:42:14.635063Z",
     "iopub.status.busy": "2022-03-13T03:42:14.634063Z",
     "iopub.status.idle": "2022-03-13T03:42:14.725119Z",
     "shell.execute_reply": "2022-03-13T03:42:14.724116Z",
     "shell.execute_reply.started": "2022-03-13T03:42:14.635063Z"
    }
   },
   "outputs": [
    {
     "name": "stdout",
     "output_type": "stream",
     "text": [
      "Yes, 10 is less than 15\n"
     ]
    }
   ],
   "source": [
    "x, y = 10, 15\n",
    "\n",
    "if x < y : \n",
    "    print(f'Yes, {x} is less than {y}')\n",
    "else : \n",
    "    print(f'No, {x} is not less than {y}')"
   ]
  },
  {
   "cell_type": "code",
   "execution_count": 45,
   "id": "5dadf8e8-1949-4253-ab49-ab35fec26834",
   "metadata": {
    "execution": {
     "iopub.execute_input": "2022-03-13T03:42:14.727123Z",
     "iopub.status.busy": "2022-03-13T03:42:14.727123Z",
     "iopub.status.idle": "2022-03-13T03:42:14.799554Z",
     "shell.execute_reply": "2022-03-13T03:42:14.798896Z",
     "shell.execute_reply.started": "2022-03-13T03:42:14.727123Z"
    },
    "tags": []
   },
   "outputs": [
    {
     "name": "stdout",
     "output_type": "stream",
     "text": [
      "value of condition is : False\n",
      "Condition is not verified :( !\n"
     ]
    }
   ],
   "source": [
    "x, y = 15, 30\n",
    "\n",
    "condition = x > y\n",
    "\n",
    "print(f'value of condition is : {condition}')\n",
    "\n",
    "if condition : \n",
    "    print('Condition is verified :) !')\n",
    "else :\n",
    "    print('Condition is not verified :( !')"
   ]
  },
  {
   "cell_type": "code",
   "execution_count": 46,
   "id": "13f5f9f0-b944-4dc0-a671-9d02c8d33997",
   "metadata": {
    "execution": {
     "iopub.execute_input": "2022-03-13T03:42:14.802556Z",
     "iopub.status.busy": "2022-03-13T03:42:14.801557Z",
     "iopub.status.idle": "2022-03-13T03:42:14.883339Z",
     "shell.execute_reply": "2022-03-13T03:42:14.882028Z",
     "shell.execute_reply.started": "2022-03-13T03:42:14.802556Z"
    }
   },
   "outputs": [
    {
     "name": "stdout",
     "output_type": "stream",
     "text": [
      "value of condition is : True\n",
      "Condition is verified :) !\n"
     ]
    }
   ],
   "source": [
    "x, y = 15, 30\n",
    "\n",
    "condition = x < y\n",
    "\n",
    "print(f'value of condition is : {condition}')\n",
    "\n",
    "if condition : \n",
    "    print('Condition is verified :) !')\n",
    "else :\n",
    "    print('Condition is not verified :( !')"
   ]
  },
  {
   "cell_type": "markdown",
   "id": "abe5a4d9-c26b-4809-8134-b371b145cd6e",
   "metadata": {},
   "source": [
    "- # **07 *Loops***"
   ]
  },
  {
   "cell_type": "markdown",
   "id": "8bdc36d6-f0f4-43e7-846c-afc169c1c620",
   "metadata": {},
   "source": [
    "> ## **range**"
   ]
  },
  {
   "cell_type": "code",
   "execution_count": 47,
   "id": "ea74f3ab-448d-42bb-84e6-ce9e9018f669",
   "metadata": {
    "execution": {
     "iopub.execute_input": "2022-03-13T03:42:14.889343Z",
     "iopub.status.busy": "2022-03-13T03:42:14.888347Z",
     "iopub.status.idle": "2022-03-13T03:42:14.973410Z",
     "shell.execute_reply": "2022-03-13T03:42:14.969412Z",
     "shell.execute_reply.started": "2022-03-13T03:42:14.889343Z"
    },
    "tags": []
   },
   "outputs": [
    {
     "name": "stdout",
     "output_type": "stream",
     "text": [
      "x = range(0, 5), type of x is <class 'range'>\n"
     ]
    }
   ],
   "source": [
    "x = range(5)\n",
    "print(f'x = {x}, type of x is {type(x)}')"
   ]
  },
  {
   "cell_type": "code",
   "execution_count": 48,
   "id": "150533cb-a2be-47ed-a91f-0890f9801279",
   "metadata": {
    "execution": {
     "iopub.execute_input": "2022-03-13T03:42:14.976410Z",
     "iopub.status.busy": "2022-03-13T03:42:14.975412Z",
     "iopub.status.idle": "2022-03-13T03:42:15.066492Z",
     "shell.execute_reply": "2022-03-13T03:42:15.066492Z",
     "shell.execute_reply.started": "2022-03-13T03:42:14.976410Z"
    },
    "tags": []
   },
   "outputs": [
    {
     "name": "stdout",
     "output_type": "stream",
     "text": [
      " values between 0 and 5\n",
      " 0, 1, 2, 3, 4\n"
     ]
    }
   ],
   "source": [
    "print(f' values between 0 and 5')\n",
    "print(f' {x[0]}, {x[1]}, {x[2]}, {x[3]}, {x[4]}')"
   ]
  },
  {
   "cell_type": "code",
   "execution_count": 49,
   "id": "8a186ce3-6fde-412c-abda-704033ec557a",
   "metadata": {
    "execution": {
     "iopub.execute_input": "2022-03-13T03:42:15.078092Z",
     "iopub.status.busy": "2022-03-13T03:42:15.076093Z",
     "iopub.status.idle": "2022-03-13T03:42:15.144536Z",
     "shell.execute_reply": "2022-03-13T03:42:15.143219Z",
     "shell.execute_reply.started": "2022-03-13T03:42:15.078092Z"
    },
    "tags": []
   },
   "outputs": [
    {
     "name": "stdout",
     "output_type": "stream",
     "text": [
      "length of y is : 5\n",
      "values between 10 and 20 with step=2\n",
      " 10, 12, 14, 16, 18\n"
     ]
    }
   ],
   "source": [
    "y = range(10, 20, 2)\n",
    "print(f'length of y is : {len(y)}')\n",
    "print('values between 10 and 20 with step=2')\n",
    "print(f' {y[0]}, {y[1]}, {y[2]}, {y[3]}, {y[4]}')"
   ]
  },
  {
   "cell_type": "code",
   "execution_count": 50,
   "id": "6373dd50-07cb-4f85-a9a6-01b8005b29f8",
   "metadata": {
    "execution": {
     "iopub.execute_input": "2022-03-13T03:42:15.145541Z",
     "iopub.status.busy": "2022-03-13T03:42:15.145541Z",
     "iopub.status.idle": "2022-03-13T03:42:15.242327Z",
     "shell.execute_reply": "2022-03-13T03:42:15.241325Z",
     "shell.execute_reply.started": "2022-03-13T03:42:15.145541Z"
    },
    "tags": []
   },
   "outputs": [
    {
     "name": "stdout",
     "output_type": "stream",
     "text": [
      "size of z is : 6\n",
      "values between 30 and 0 \n",
      "30, 25, 20, 15, 10, 5\n"
     ]
    }
   ],
   "source": [
    "z = range(30, 0, -5)\n",
    "print(f'size of z is : {len(z)}')\n",
    "print('values between 30 and 0 ')\n",
    "print(f'{z[0]}, {z[1]}, {z[2]}, {z[3]}, {z[4]}, {z[5]}')"
   ]
  },
  {
   "cell_type": "markdown",
   "id": "765213d6-186b-43af-b754-4545ea47cb93",
   "metadata": {},
   "source": [
    "# ***What if we have a collection with 1 million elements ?***"
   ]
  },
  {
   "cell_type": "code",
   "execution_count": null,
   "id": "8c363fb9-e55e-4ccc-983b-24e558656380",
   "metadata": {},
   "outputs": [],
   "source": []
  }
 ],
 "metadata": {
  "kernelspec": {
   "display_name": "Python 3",
   "language": "python",
   "name": "python3"
  },
  "language_info": {
   "codemirror_mode": {
    "name": "ipython",
    "version": 3
   },
   "file_extension": ".py",
   "mimetype": "text/x-python",
   "name": "python",
   "nbconvert_exporter": "python",
   "pygments_lexer": "ipython3",
   "version": "3.7.5"
  }
 },
 "nbformat": 4,
 "nbformat_minor": 5
}
