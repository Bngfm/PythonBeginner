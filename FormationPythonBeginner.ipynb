{
 "cells": [
  {
   "cell_type": "markdown",
   "id": "3381dab5-3da3-4465-8298-277b69cab0cb",
   "metadata": {},
   "source": [
    "- # **01 *print***"
   ]
  },
  {
   "cell_type": "markdown",
   "id": "cb1bceed-db69-4de7-879d-10c4b9fb9cc6",
   "metadata": {},
   "source": [
    "## **- Same line**"
   ]
  },
  {
   "cell_type": "code",
   "execution_count": 3,
   "id": "96df2ab9-9bb7-47c3-8ada-f6db22d8ec16",
   "metadata": {
    "execution": {
     "iopub.execute_input": "2022-03-12T21:26:54.068978Z",
     "iopub.status.busy": "2022-03-12T21:26:54.068978Z",
     "iopub.status.idle": "2022-03-12T21:26:54.076979Z",
     "shell.execute_reply": "2022-03-12T21:26:54.074978Z",
     "shell.execute_reply.started": "2022-03-12T21:26:54.068978Z"
    },
    "tags": []
   },
   "outputs": [
    {
     "name": "stdout",
     "output_type": "stream",
     "text": [
      "Hello World !\n"
     ]
    }
   ],
   "source": [
    "print('Hello World !')"
   ]
  },
  {
   "cell_type": "code",
   "execution_count": 4,
   "id": "9f75c8df-4443-47e3-8978-33e4a975aa5b",
   "metadata": {
    "execution": {
     "iopub.execute_input": "2022-03-12T21:26:55.562084Z",
     "iopub.status.busy": "2022-03-12T21:26:55.562084Z",
     "iopub.status.idle": "2022-03-12T21:26:55.569083Z",
     "shell.execute_reply": "2022-03-12T21:26:55.567082Z",
     "shell.execute_reply.started": "2022-03-12T21:26:55.562084Z"
    },
    "tags": []
   },
   "outputs": [
    {
     "name": "stdout",
     "output_type": "stream",
     "text": [
      "Hello World !!\n"
     ]
    }
   ],
   "source": [
    "print(\"Hello World !!\")"
   ]
  },
  {
   "cell_type": "code",
   "execution_count": 5,
   "id": "593b298d-afda-4983-8375-0a55d96ad534",
   "metadata": {
    "execution": {
     "iopub.execute_input": "2022-03-12T21:27:22.666692Z",
     "iopub.status.busy": "2022-03-12T21:27:22.666692Z",
     "iopub.status.idle": "2022-03-12T21:27:22.673691Z",
     "shell.execute_reply": "2022-03-12T21:27:22.672692Z",
     "shell.execute_reply.started": "2022-03-12T21:27:22.666692Z"
    }
   },
   "outputs": [
    {
     "name": "stdout",
     "output_type": "stream",
     "text": [
      "Hello World !!\n"
     ]
    }
   ],
   "source": [
    "print(\"\"\"Hello World !!\"\"\")"
   ]
  },
  {
   "cell_type": "markdown",
   "id": "a6ad3d2c-b29a-4697-bc85-2339f81b5c3c",
   "metadata": {},
   "source": [
    "## **- different lines**"
   ]
  },
  {
   "cell_type": "code",
   "execution_count": 6,
   "id": "14701f74-4251-4dd7-90dc-efa0193d22d2",
   "metadata": {
    "execution": {
     "iopub.execute_input": "2022-03-12T21:28:49.316967Z",
     "iopub.status.busy": "2022-03-12T21:28:49.315968Z",
     "iopub.status.idle": "2022-03-12T21:28:49.322971Z",
     "shell.execute_reply": "2022-03-12T21:28:49.321970Z",
     "shell.execute_reply.started": "2022-03-12T21:28:49.316967Z"
    }
   },
   "outputs": [
    {
     "name": "stdout",
     "output_type": "stream",
     "text": [
      "Hello \n",
      "World !!\n"
     ]
    }
   ],
   "source": [
    "print('Hello \\nWorld !!')"
   ]
  },
  {
   "cell_type": "code",
   "execution_count": 7,
   "id": "39a9a297-f501-48d9-b1c5-fcf6d2d51663",
   "metadata": {
    "execution": {
     "iopub.execute_input": "2022-03-12T21:29:13.304601Z",
     "iopub.status.busy": "2022-03-12T21:29:13.303598Z",
     "iopub.status.idle": "2022-03-12T21:29:13.309599Z",
     "shell.execute_reply": "2022-03-12T21:29:13.308599Z",
     "shell.execute_reply.started": "2022-03-12T21:29:13.304601Z"
    }
   },
   "outputs": [
    {
     "name": "stdout",
     "output_type": "stream",
     "text": [
      "Hello \n",
      "World !!\n"
     ]
    }
   ],
   "source": [
    "print(\"Hello \\nWorld !!\")"
   ]
  },
  {
   "cell_type": "code",
   "execution_count": 9,
   "id": "7678237d-8385-4048-923a-d4a8142df955",
   "metadata": {
    "execution": {
     "iopub.execute_input": "2022-03-12T21:29:42.929586Z",
     "iopub.status.busy": "2022-03-12T21:29:42.928584Z",
     "iopub.status.idle": "2022-03-12T21:29:42.935586Z",
     "shell.execute_reply": "2022-03-12T21:29:42.934586Z",
     "shell.execute_reply.started": "2022-03-12T21:29:42.929586Z"
    },
    "tags": []
   },
   "outputs": [
    {
     "name": "stdout",
     "output_type": "stream",
     "text": [
      "Hello\n",
      "World !!\n"
     ]
    }
   ],
   "source": [
    "print(\"\"\"Hello\n",
    "World !!\"\"\")"
   ]
  },
  {
   "cell_type": "markdown",
   "id": "89919412-c3e5-4421-8efb-9e4779e81f66",
   "metadata": {},
   "source": [
    "## **- using variable**"
   ]
  },
  {
   "cell_type": "code",
   "execution_count": 11,
   "id": "accb7bd5-00ab-4957-8ae0-624a2249b923",
   "metadata": {
    "execution": {
     "iopub.execute_input": "2022-03-12T21:32:08.040496Z",
     "iopub.status.busy": "2022-03-12T21:32:08.039496Z",
     "iopub.status.idle": "2022-03-12T21:32:08.049498Z",
     "shell.execute_reply": "2022-03-12T21:32:08.047497Z",
     "shell.execute_reply.started": "2022-03-12T21:32:08.040496Z"
    },
    "tags": []
   },
   "outputs": [
    {
     "name": "stdout",
     "output_type": "stream",
     "text": [
      "value of number =  5\n"
     ]
    }
   ],
   "source": [
    "number = 5\n",
    "\n",
    "print('value of number = ', number)"
   ]
  },
  {
   "cell_type": "code",
   "execution_count": 12,
   "id": "f9f5ca09-c4db-4809-ac81-ae0b75ab119e",
   "metadata": {
    "execution": {
     "iopub.execute_input": "2022-03-12T21:32:24.360820Z",
     "iopub.status.busy": "2022-03-12T21:32:24.359820Z",
     "iopub.status.idle": "2022-03-12T21:32:24.367819Z",
     "shell.execute_reply": "2022-03-12T21:32:24.365818Z",
     "shell.execute_reply.started": "2022-03-12T21:32:24.360820Z"
    }
   },
   "outputs": [
    {
     "name": "stdout",
     "output_type": "stream",
     "text": [
      "value of number =  5\n"
     ]
    }
   ],
   "source": [
    "number = 5\n",
    "\n",
    "print(\"value of number = \", number)"
   ]
  },
  {
   "cell_type": "code",
   "execution_count": 13,
   "id": "f8f6fd0a-2b83-43e0-97f2-a769de73fb5e",
   "metadata": {
    "execution": {
     "iopub.execute_input": "2022-03-12T21:32:39.096593Z",
     "iopub.status.busy": "2022-03-12T21:32:39.095593Z",
     "iopub.status.idle": "2022-03-12T21:32:39.103593Z",
     "shell.execute_reply": "2022-03-12T21:32:39.101593Z",
     "shell.execute_reply.started": "2022-03-12T21:32:39.096593Z"
    }
   },
   "outputs": [
    {
     "name": "stdout",
     "output_type": "stream",
     "text": [
      "value of number =  5\n"
     ]
    }
   ],
   "source": [
    "number = 5\n",
    "\n",
    "print(\"\"\"value of number = \"\"\", number)"
   ]
  },
  {
   "cell_type": "code",
   "execution_count": 14,
   "id": "5ebabc2d-6a2f-4ebd-ad8c-66484fe14ba2",
   "metadata": {
    "execution": {
     "iopub.execute_input": "2022-03-12T21:34:31.593796Z",
     "iopub.status.busy": "2022-03-12T21:34:31.593796Z",
     "iopub.status.idle": "2022-03-12T21:34:31.600794Z",
     "shell.execute_reply": "2022-03-12T21:34:31.599795Z",
     "shell.execute_reply.started": "2022-03-12T21:34:31.593796Z"
    }
   },
   "outputs": [
    {
     "name": "stdout",
     "output_type": "stream",
     "text": [
      "x =  1  y =  4\n"
     ]
    }
   ],
   "source": [
    "x = 1\n",
    "y = 4\n",
    "\n",
    "print('x = ', x, ' y = ', y)"
   ]
  },
  {
   "cell_type": "code",
   "execution_count": 15,
   "id": "a9973bfa-51dd-4f78-b80f-c3e067a4caa4",
   "metadata": {
    "execution": {
     "iopub.execute_input": "2022-03-12T21:35:07.832061Z",
     "iopub.status.busy": "2022-03-12T21:35:07.831061Z",
     "iopub.status.idle": "2022-03-12T21:35:07.841065Z",
     "shell.execute_reply": "2022-03-12T21:35:07.839064Z",
     "shell.execute_reply.started": "2022-03-12T21:35:07.832061Z"
    }
   },
   "outputs": [
    {
     "name": "stdout",
     "output_type": "stream",
     "text": [
      "x =  1  y =  4\n"
     ]
    }
   ],
   "source": [
    "x = 1\n",
    "y = 4\n",
    "\n",
    "print(\"x = \", x, \" y = \", y)"
   ]
  },
  {
   "cell_type": "markdown",
   "id": "dd77d628-fdfe-4abd-99fd-5216ba76bcfc",
   "metadata": {},
   "source": [
    "## **- format**"
   ]
  },
  {
   "cell_type": "code",
   "execution_count": 19,
   "id": "e274f476-b282-4fcd-a7f9-fc4a2076fa39",
   "metadata": {
    "execution": {
     "iopub.execute_input": "2022-03-12T21:36:55.211477Z",
     "iopub.status.busy": "2022-03-12T21:36:55.210477Z",
     "iopub.status.idle": "2022-03-12T21:36:55.220480Z",
     "shell.execute_reply": "2022-03-12T21:36:55.218479Z",
     "shell.execute_reply.started": "2022-03-12T21:36:55.211477Z"
    },
    "tags": []
   },
   "outputs": [
    {
     "name": "stdout",
     "output_type": "stream",
     "text": [
      "x = 10, y = 20\n"
     ]
    }
   ],
   "source": [
    "x, y = 10, 20\n",
    "\n",
    "print('x = {x}, y = {y}'.format(x=x, y=y))"
   ]
  },
  {
   "cell_type": "code",
   "execution_count": 20,
   "id": "da25a201-d0ca-46b7-8996-1f5a8afbc026",
   "metadata": {
    "execution": {
     "iopub.execute_input": "2022-03-12T21:37:41.878127Z",
     "iopub.status.busy": "2022-03-12T21:37:41.877126Z",
     "iopub.status.idle": "2022-03-12T21:37:41.887127Z",
     "shell.execute_reply": "2022-03-12T21:37:41.885127Z",
     "shell.execute_reply.started": "2022-03-12T21:37:41.878127Z"
    }
   },
   "outputs": [
    {
     "name": "stdout",
     "output_type": "stream",
     "text": [
      "x = 10, y = 20\n"
     ]
    }
   ],
   "source": [
    "x, y = 10, 20\n",
    "\n",
    "# donner un nom de parametres entre les accolades\n",
    "print('x = {a}, y = {b}'.format(a=x, b=y))"
   ]
  },
  {
   "cell_type": "code",
   "execution_count": 21,
   "id": "83477eee-6f44-491e-b115-d3073f039037",
   "metadata": {
    "execution": {
     "iopub.execute_input": "2022-03-12T21:37:53.738061Z",
     "iopub.status.busy": "2022-03-12T21:37:53.738061Z",
     "iopub.status.idle": "2022-03-12T21:37:53.747064Z",
     "shell.execute_reply": "2022-03-12T21:37:53.745063Z",
     "shell.execute_reply.started": "2022-03-12T21:37:53.738061Z"
    }
   },
   "outputs": [
    {
     "name": "stdout",
     "output_type": "stream",
     "text": [
      "x = 10, y = 20\n"
     ]
    }
   ],
   "source": [
    "x, y = 10, 20\n",
    "\n",
    "print('x = {}, y = {}'.format(x, y))"
   ]
  },
  {
   "cell_type": "code",
   "execution_count": 22,
   "id": "992cc3e0-1ee5-4d43-b7d7-c973113fdf71",
   "metadata": {
    "execution": {
     "iopub.execute_input": "2022-03-12T21:38:52.524933Z",
     "iopub.status.busy": "2022-03-12T21:38:52.523934Z",
     "iopub.status.idle": "2022-03-12T21:38:52.532937Z",
     "shell.execute_reply": "2022-03-12T21:38:52.530936Z",
     "shell.execute_reply.started": "2022-03-12T21:38:52.524933Z"
    }
   },
   "outputs": [
    {
     "name": "stdout",
     "output_type": "stream",
     "text": [
      "x = 100, y = 200\n"
     ]
    }
   ],
   "source": [
    "x, y = 10, 20\n",
    "\n",
    "print('x = {x}, y = {y}'.format(x=100, y=200))"
   ]
  },
  {
   "cell_type": "markdown",
   "id": "8891fee8-1ad8-460f-add0-656b9278c878",
   "metadata": {},
   "source": [
    "## **- la fonction f**"
   ]
  },
  {
   "cell_type": "code",
   "execution_count": 23,
   "id": "6ab36ca1-6b46-4a40-802b-6ed35351c626",
   "metadata": {
    "execution": {
     "iopub.execute_input": "2022-03-12T21:40:38.600411Z",
     "iopub.status.busy": "2022-03-12T21:40:38.599411Z",
     "iopub.status.idle": "2022-03-12T21:40:38.608415Z",
     "shell.execute_reply": "2022-03-12T21:40:38.606413Z",
     "shell.execute_reply.started": "2022-03-12T21:40:38.600411Z"
    }
   },
   "outputs": [
    {
     "name": "stdout",
     "output_type": "stream",
     "text": [
      "x = 10, y = 20\n"
     ]
    }
   ],
   "source": [
    "x, y = 10, 20\n",
    "\n",
    "print(f'x = {x}, y = {y}')"
   ]
  },
  {
   "cell_type": "code",
   "execution_count": 24,
   "id": "2874d119-a5c2-418f-9e43-a5c8a4a15ee6",
   "metadata": {
    "execution": {
     "iopub.execute_input": "2022-03-12T21:41:50.952665Z",
     "iopub.status.busy": "2022-03-12T21:41:50.951660Z",
     "iopub.status.idle": "2022-03-12T21:41:50.959665Z",
     "shell.execute_reply": "2022-03-12T21:41:50.958666Z",
     "shell.execute_reply.started": "2022-03-12T21:41:50.952665Z"
    }
   },
   "outputs": [
    {
     "name": "stdout",
     "output_type": "stream",
     "text": [
      "value of x is 10, value of y is 20 and value of z is 30\n"
     ]
    }
   ],
   "source": [
    "x, y, z = 10, 20, 30\n",
    "\n",
    "print(f'value of x is {x}, value of y is {y} and value of z is {z}')"
   ]
  },
  {
   "cell_type": "code",
   "execution_count": 25,
   "id": "19365f43-bfb4-45d5-ad50-a5e25fd2dbe4",
   "metadata": {
    "execution": {
     "iopub.execute_input": "2022-03-12T21:42:28.101328Z",
     "iopub.status.busy": "2022-03-12T21:42:28.100325Z",
     "iopub.status.idle": "2022-03-12T21:42:28.108329Z",
     "shell.execute_reply": "2022-03-12T21:42:28.107328Z",
     "shell.execute_reply.started": "2022-03-12T21:42:28.101328Z"
    }
   },
   "outputs": [
    {
     "name": "stdout",
     "output_type": "stream",
     "text": [
      "value of x is 10,\n",
      "value of y is 20\n",
      "and value of z is 30\n"
     ]
    }
   ],
   "source": [
    "x, y, z = 10, 20, 30\n",
    "\n",
    "print(f\"\"\"value of x is {x},\n",
    "value of y is {y}\n",
    "and value of z is {z}\"\"\")"
   ]
  },
  {
   "cell_type": "markdown",
   "id": "b912118e-6bba-4895-a9ce-6abaaab354b6",
   "metadata": {},
   "source": [
    "# Remember"
   ]
  },
  {
   "cell_type": "markdown",
   "id": "f31a3d72-d85c-4845-9929-00541be8b8f5",
   "metadata": {},
   "source": [
    "- # **02 *Declare variables***"
   ]
  },
  {
   "cell_type": "code",
   "execution_count": 29,
   "id": "de6a61d8-1251-4b10-bb54-071b7e25f850",
   "metadata": {
    "execution": {
     "iopub.execute_input": "2022-03-12T21:46:05.397885Z",
     "iopub.status.busy": "2022-03-12T21:46:05.396884Z",
     "iopub.status.idle": "2022-03-12T21:46:05.406888Z",
     "shell.execute_reply": "2022-03-12T21:46:05.405887Z",
     "shell.execute_reply.started": "2022-03-12T21:46:05.397885Z"
    },
    "tags": []
   },
   "outputs": [
    {
     "name": "stdout",
     "output_type": "stream",
     "text": [
      "type of x : <class 'int'>\n",
      "type of y : <class 'float'>\n",
      "type of z : <class 'bool'>\n",
      "type of a : <class 'str'>\n"
     ]
    }
   ],
   "source": [
    "x = 2\n",
    "y = 3.3\n",
    "z = False\n",
    "a = 's'\n",
    "\n",
    "print(f'type of x : {type(x)}')\n",
    "print(f'type of y : {type(y)}')\n",
    "print(f'type of z : {type(z)}')\n",
    "print(f'type of a : {type(a)}')"
   ]
  },
  {
   "cell_type": "markdown",
   "id": "8a2faacb-a923-46c5-b696-9e8ad2ae2bf1",
   "metadata": {},
   "source": [
    "> ## **Declare in one line (one expresion)**"
   ]
  },
  {
   "cell_type": "code",
   "execution_count": 34,
   "id": "a0338a29-2499-46f1-a211-69e2946457b5",
   "metadata": {
    "execution": {
     "iopub.execute_input": "2022-03-12T21:48:22.922527Z",
     "iopub.status.busy": "2022-03-12T21:48:22.922527Z",
     "iopub.status.idle": "2022-03-12T21:48:22.928530Z",
     "shell.execute_reply": "2022-03-12T21:48:22.927530Z",
     "shell.execute_reply.started": "2022-03-12T21:48:22.922527Z"
    },
    "tags": []
   },
   "outputs": [
    {
     "name": "stdout",
     "output_type": "stream",
     "text": [
      "x = 10, y = 5, z = 8\n"
     ]
    }
   ],
   "source": [
    "x = 10\n",
    "y = 5\n",
    "z = 8\n",
    "\n",
    "print(f'x = {x}, y = {y}, z = {z}')"
   ]
  },
  {
   "cell_type": "code",
   "execution_count": 35,
   "id": "519ee4f5-6220-488d-a7da-268e8558c01f",
   "metadata": {
    "execution": {
     "iopub.execute_input": "2022-03-12T21:48:38.755663Z",
     "iopub.status.busy": "2022-03-12T21:48:38.754664Z",
     "iopub.status.idle": "2022-03-12T21:48:38.763667Z",
     "shell.execute_reply": "2022-03-12T21:48:38.762666Z",
     "shell.execute_reply.started": "2022-03-12T21:48:38.755663Z"
    },
    "tags": []
   },
   "outputs": [
    {
     "name": "stdout",
     "output_type": "stream",
     "text": [
      "x = 10, y = 5, z = 8\n"
     ]
    }
   ],
   "source": [
    "x, y, z = 10, 5, 8\n",
    "\n",
    "\n",
    "print(f'x = {x}, y = {y}, z = {z}')"
   ]
  },
  {
   "cell_type": "markdown",
   "id": "47c2aac0-ba9e-480e-9424-b14f890707fe",
   "metadata": {},
   "source": [
    "### **Inverse variables** "
   ]
  },
  {
   "cell_type": "code",
   "execution_count": 37,
   "id": "cec1cf56-9290-4001-82f5-00b6eb24ac2e",
   "metadata": {
    "execution": {
     "iopub.execute_input": "2022-03-12T21:49:35.241794Z",
     "iopub.status.busy": "2022-03-12T21:49:35.241794Z",
     "iopub.status.idle": "2022-03-12T21:49:35.249794Z",
     "shell.execute_reply": "2022-03-12T21:49:35.247793Z",
     "shell.execute_reply.started": "2022-03-12T21:49:35.241794Z"
    },
    "tags": []
   },
   "outputs": [
    {
     "name": "stdout",
     "output_type": "stream",
     "text": [
      "x = 10, y = 5\n",
      "x = 5, y = 10\n"
     ]
    }
   ],
   "source": [
    "x, y = 10, 5\n",
    "print(f'x = {x}, y = {y}')\n",
    "\n",
    "x, y = y, x\n",
    "print(f'x = {x}, y = {y}')"
   ]
  },
  {
   "cell_type": "code",
   "execution_count": 38,
   "id": "d687857a-6888-4e62-a690-6e680546f584",
   "metadata": {
    "execution": {
     "iopub.execute_input": "2022-03-12T21:50:53.678768Z",
     "iopub.status.busy": "2022-03-12T21:50:53.678768Z",
     "iopub.status.idle": "2022-03-12T21:50:53.686769Z",
     "shell.execute_reply": "2022-03-12T21:50:53.685769Z",
     "shell.execute_reply.started": "2022-03-12T21:50:53.678768Z"
    }
   },
   "outputs": [
    {
     "name": "stdout",
     "output_type": "stream",
     "text": [
      "x = 10, y = s\n",
      "x = s, y = 10\n"
     ]
    }
   ],
   "source": [
    "x, y = 10, 's'\n",
    "print(f'x = {x}, y = {y}')\n",
    "\n",
    "x, y = y, x\n",
    "print(f'x = {x}, y = {y}')"
   ]
  },
  {
   "cell_type": "markdown",
   "id": "661ef0c4-ee44-4676-b1c9-9ac815575e96",
   "metadata": {},
   "source": [
    "- # **03 *input***"
   ]
  },
  {
   "cell_type": "code",
   "execution_count": 41,
   "id": "50330135-b610-4ed2-a391-5d77ebc9a62c",
   "metadata": {
    "execution": {
     "iopub.execute_input": "2022-03-12T21:53:45.861849Z",
     "iopub.status.busy": "2022-03-12T21:53:45.860848Z",
     "iopub.status.idle": "2022-03-12T21:53:48.756454Z",
     "shell.execute_reply": "2022-03-12T21:53:48.755455Z",
     "shell.execute_reply.started": "2022-03-12T21:53:45.861849Z"
    },
    "tags": []
   },
   "outputs": [
    {
     "name": "stdin",
     "output_type": "stream",
     "text": [
      " test\n"
     ]
    },
    {
     "name": "stdout",
     "output_type": "stream",
     "text": [
      "entry is :  test\n"
     ]
    }
   ],
   "source": [
    "entry = input()\n",
    "\n",
    "print('entry is : ',entry)"
   ]
  },
  {
   "cell_type": "code",
   "execution_count": 44,
   "id": "acebd04f-18a8-4ac3-941d-ac58be92b58e",
   "metadata": {
    "execution": {
     "iopub.execute_input": "2022-03-12T21:54:56.928795Z",
     "iopub.status.busy": "2022-03-12T21:54:56.927794Z",
     "iopub.status.idle": "2022-03-12T21:54:58.573533Z",
     "shell.execute_reply": "2022-03-12T21:54:58.572533Z",
     "shell.execute_reply.started": "2022-03-12T21:54:56.928795Z"
    },
    "tags": []
   },
   "outputs": [
    {
     "name": "stdin",
     "output_type": "stream",
     "text": [
      "Enter some thing :  test\n"
     ]
    },
    {
     "name": "stdout",
     "output_type": "stream",
     "text": [
      "Type of [test] is <class 'str'>\n"
     ]
    }
   ],
   "source": [
    "entry = input('Enter some thing : ')\n",
    "print(f'Type of [{entry}] is {type(entry)}')"
   ]
  },
  {
   "cell_type": "code",
   "execution_count": 45,
   "id": "4f9d622e-a67e-4da4-b465-82a0d1351766",
   "metadata": {
    "execution": {
     "iopub.execute_input": "2022-03-12T21:55:17.553763Z",
     "iopub.status.busy": "2022-03-12T21:55:17.552763Z",
     "iopub.status.idle": "2022-03-12T21:55:19.370649Z",
     "shell.execute_reply": "2022-03-12T21:55:19.369649Z",
     "shell.execute_reply.started": "2022-03-12T21:55:17.553763Z"
    },
    "tags": []
   },
   "outputs": [
    {
     "name": "stdin",
     "output_type": "stream",
     "text": [
      "Enter a number :  10\n"
     ]
    },
    {
     "name": "stdout",
     "output_type": "stream",
     "text": [
      "Type of [10] is <class 'str'>\n"
     ]
    }
   ],
   "source": [
    "entry = input('Enter a number : ')\n",
    "print(f'Type of [{entry}] is {type(entry)}')"
   ]
  },
  {
   "cell_type": "markdown",
   "id": "d601f658-3959-45f2-ae86-d4d10be488ff",
   "metadata": {},
   "source": [
    "> ### **Cast input**"
   ]
  },
  {
   "cell_type": "code",
   "execution_count": 54,
   "id": "a2ce17dc-95a6-4df7-8a6e-959817df2513",
   "metadata": {
    "execution": {
     "iopub.execute_input": "2022-03-12T21:59:43.067775Z",
     "iopub.status.busy": "2022-03-12T21:59:43.066774Z",
     "iopub.status.idle": "2022-03-12T21:59:44.482004Z",
     "shell.execute_reply": "2022-03-12T21:59:44.480004Z",
     "shell.execute_reply.started": "2022-03-12T21:59:43.067775Z"
    },
    "tags": []
   },
   "outputs": [
    {
     "name": "stdin",
     "output_type": "stream",
     "text": [
      "enter a number :  10\n"
     ]
    },
    {
     "name": "stdout",
     "output_type": "stream",
     "text": [
      "Type of [10] before casting is : <class 'str'>\n",
      "Type of [10] after casting is : <class 'int'>\n"
     ]
    }
   ],
   "source": [
    "x = input('enter a number : ')\n",
    "print(f'Type of [{x}] before casting is : {type(x)}')\n",
    "\n",
    "x = int(x)\n",
    "print(f'Type of [{x}] after casting is : {type(x)}')"
   ]
  },
  {
   "cell_type": "code",
   "execution_count": 50,
   "id": "26c49b32-40f5-4aff-a396-9d147d24555f",
   "metadata": {
    "execution": {
     "iopub.execute_input": "2022-03-12T21:57:45.812381Z",
     "iopub.status.busy": "2022-03-12T21:57:45.812381Z",
     "iopub.status.idle": "2022-03-12T21:57:48.746488Z",
     "shell.execute_reply": "2022-03-12T21:57:48.745487Z",
     "shell.execute_reply.started": "2022-03-12T21:57:45.812381Z"
    },
    "tags": []
   },
   "outputs": [
    {
     "name": "stdin",
     "output_type": "stream",
     "text": [
      "enter a number :  10\n"
     ]
    },
    {
     "name": "stdout",
     "output_type": "stream",
     "text": [
      "Type of [10] is : <class 'int'>\n"
     ]
    }
   ],
   "source": [
    "x = int(input('enter a number : '))\n",
    "print(f'Type of [{x}] is : {type(x)}')"
   ]
  },
  {
   "cell_type": "code",
   "execution_count": 51,
   "id": "6db557eb-41d9-4c58-9137-93fc14fcb5c6",
   "metadata": {
    "execution": {
     "iopub.execute_input": "2022-03-12T21:57:55.188577Z",
     "iopub.status.busy": "2022-03-12T21:57:55.187576Z",
     "iopub.status.idle": "2022-03-12T21:57:56.644300Z",
     "shell.execute_reply": "2022-03-12T21:57:56.642298Z",
     "shell.execute_reply.started": "2022-03-12T21:57:55.188577Z"
    },
    "tags": []
   },
   "outputs": [
    {
     "name": "stdin",
     "output_type": "stream",
     "text": [
      "enter a number :  10\n"
     ]
    },
    {
     "name": "stdout",
     "output_type": "stream",
     "text": [
      "Type of [10.0] is : <class 'float'>\n"
     ]
    }
   ],
   "source": [
    "x = float(input('enter a number : '))\n",
    "print(f'Type of [{x}] is : {type(x)}')"
   ]
  },
  {
   "cell_type": "code",
   "execution_count": 52,
   "id": "065f1b6c-d36c-4c22-a5af-bbdb894541ce",
   "metadata": {
    "execution": {
     "iopub.execute_input": "2022-03-12T21:58:05.676498Z",
     "iopub.status.busy": "2022-03-12T21:58:05.675496Z",
     "iopub.status.idle": "2022-03-12T21:58:07.354206Z",
     "shell.execute_reply": "2022-03-12T21:58:07.353206Z",
     "shell.execute_reply.started": "2022-03-12T21:58:05.676498Z"
    },
    "tags": []
   },
   "outputs": [
    {
     "name": "stdin",
     "output_type": "stream",
     "text": [
      "enter a number :  10\n"
     ]
    },
    {
     "name": "stdout",
     "output_type": "stream",
     "text": [
      "Type of [10] is : <class 'str'>\n"
     ]
    }
   ],
   "source": [
    "x = str(int(input('enter a number : ')))\n",
    "print(f'Type of [{x}] is : {type(x)}')"
   ]
  },
  {
   "cell_type": "code",
   "execution_count": null,
   "id": "c241ede9-08b3-4862-9326-dc3175f4ee1d",
   "metadata": {},
   "outputs": [],
   "source": []
  },
  {
   "cell_type": "code",
   "execution_count": null,
   "id": "c63fce39-3732-4440-a285-327ba8922e92",
   "metadata": {},
   "outputs": [],
   "source": []
  },
  {
   "cell_type": "code",
   "execution_count": null,
   "id": "ecdfddbe-85d7-4e04-b365-6624eb9eff36",
   "metadata": {},
   "outputs": [],
   "source": []
  },
  {
   "cell_type": "code",
   "execution_count": null,
   "id": "40ba53b0-9d77-40e8-a744-132f3178d4b1",
   "metadata": {},
   "outputs": [],
   "source": []
  },
  {
   "cell_type": "code",
   "execution_count": null,
   "id": "3ebb4524-a1c9-4861-a739-0e18667d5dbc",
   "metadata": {},
   "outputs": [],
   "source": []
  },
  {
   "cell_type": "markdown",
   "id": "b03b731d-cd47-4cdd-a563-8727a3ca6101",
   "metadata": {},
   "source": [
    "- # **04 *Arithmetic***"
   ]
  },
  {
   "cell_type": "code",
   "execution_count": null,
   "id": "32b1ca01-94c7-4137-ae83-c8575631b553",
   "metadata": {},
   "outputs": [],
   "source": []
  }
 ],
 "metadata": {
  "kernelspec": {
   "display_name": "Python 3",
   "language": "python",
   "name": "python3"
  },
  "language_info": {
   "codemirror_mode": {
    "name": "ipython",
    "version": 3
   },
   "file_extension": ".py",
   "mimetype": "text/x-python",
   "name": "python",
   "nbconvert_exporter": "python",
   "pygments_lexer": "ipython3",
   "version": "3.7.5"
  }
 },
 "nbformat": 4,
 "nbformat_minor": 5
}
